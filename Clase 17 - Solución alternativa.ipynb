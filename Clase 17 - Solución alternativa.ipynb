{
 "cells": [
  {
   "cell_type": "code",
   "execution_count": 13,
   "id": "activated-spice",
   "metadata": {},
   "outputs": [],
   "source": [
    "lista = [2,4,5,5,5,9,6,7,7,7,7,7,7,7,4,4,4,56]"
   ]
  },
  {
   "cell_type": "code",
   "execution_count": 14,
   "id": "cellular-efficiency",
   "metadata": {},
   "outputs": [
    {
     "name": "stdout",
     "output_type": "stream",
     "text": [
      "numero_actual -1, repeticiones 0, numero_mas_repetido -1, max_repeticiones 0  \n",
      "numero_actual 2, repeticiones 0, numero_mas_repetido -1, max_repeticiones 0  \n",
      "numero_actual 4, repeticiones 0, numero_mas_repetido -1, max_repeticiones 0  \n",
      "numero_actual 5, repeticiones 0, numero_mas_repetido -1, max_repeticiones 0  \n",
      "numero_actual 5, repeticiones 1, numero_mas_repetido 5, max_repeticiones 1  \n",
      "numero_actual 5, repeticiones 2, numero_mas_repetido 5, max_repeticiones 2  \n",
      "numero_actual 9, repeticiones 0, numero_mas_repetido 5, max_repeticiones 2  \n",
      "numero_actual 6, repeticiones 0, numero_mas_repetido 5, max_repeticiones 2  \n",
      "numero_actual 7, repeticiones 0, numero_mas_repetido 5, max_repeticiones 2  \n",
      "numero_actual 7, repeticiones 1, numero_mas_repetido 5, max_repeticiones 2  \n",
      "numero_actual 7, repeticiones 2, numero_mas_repetido 7, max_repeticiones 2  \n",
      "numero_actual 7, repeticiones 3, numero_mas_repetido 7, max_repeticiones 3  \n",
      "numero_actual 7, repeticiones 4, numero_mas_repetido 7, max_repeticiones 4  \n",
      "numero_actual 7, repeticiones 5, numero_mas_repetido 7, max_repeticiones 5  \n",
      "numero_actual 7, repeticiones 6, numero_mas_repetido 7, max_repeticiones 6  \n",
      "numero_actual 4, repeticiones 0, numero_mas_repetido 7, max_repeticiones 6  \n",
      "numero_actual 4, repeticiones 1, numero_mas_repetido 7, max_repeticiones 6  \n",
      "numero_actual 4, repeticiones 2, numero_mas_repetido 7, max_repeticiones 6  \n",
      "El número más repetido fue 7 con 6 repeticiones\n"
     ]
    }
   ],
   "source": [
    "numero_actual = -1\n",
    "numero_mas_repetido = -1\n",
    "max_repeticiones = 0\n",
    "repeticiones = 0\n",
    "for elem in lista:\n",
    "    print(f'numero_actual {numero_actual}, repeticiones {repeticiones}, numero_mas_repetido {numero_mas_repetido}, max_repeticiones {max_repeticiones}  ')\n",
    "    if (numero_actual == elem):\n",
    "        repeticiones = repeticiones + 1\n",
    "        if (repeticiones >= max_repeticiones):\n",
    "            numero_mas_repetido = elem\n",
    "            max_repeticiones = repeticiones\n",
    "    else:\n",
    "        repeticiones = 0\n",
    "    numero_actual = elem\n",
    "print(f'El número más repetido fue {numero_mas_repetido} con {max_repeticiones} repeticiones') "
   ]
  },
  {
   "cell_type": "code",
   "execution_count": null,
   "id": "adolescent-behalf",
   "metadata": {},
   "outputs": [],
   "source": []
  }
 ],
 "metadata": {
  "kernelspec": {
   "display_name": "Python 3",
   "language": "python",
   "name": "python3"
  },
  "language_info": {
   "codemirror_mode": {
    "name": "ipython",
    "version": 3
   },
   "file_extension": ".py",
   "mimetype": "text/x-python",
   "name": "python",
   "nbconvert_exporter": "python",
   "pygments_lexer": "ipython3",
   "version": "3.7.6"
  }
 },
 "nbformat": 4,
 "nbformat_minor": 5
}
